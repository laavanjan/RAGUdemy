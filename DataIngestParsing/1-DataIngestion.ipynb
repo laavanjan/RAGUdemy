{
 "cells": [
  {
   "cell_type": "markdown",
   "id": "76ed538c",
   "metadata": {},
   "source": [
    "### 🎯 Module Overview\n",
    "This module covers everything you need to know about parsing and ingesting data for RAG systems, from basic text files to complex PDFs and databases. We'll use LangChain v0.3 and explore each technique with practical examples.\n",
    "\n",
    "Table of Contents\n",
    "\n",
    "- Introduction to Data Ingestion\n",
    "- Text Files (.txt)\n",
    "- PDF Documents\n",
    "- Microsoft Word Documents\n",
    "- CSV and Excel Files\n",
    "- JSON and Structured Data\n",
    "- Web Scraping\n",
    "- Databases (SQL)\n",
    "- Audio and Video Transcripts\n",
    "- Advanced Techniques\n",
    "- Best Practices"
   ]
  },
  {
   "cell_type": "markdown",
   "id": "2a94924b",
   "metadata": {},
   "source": [
    "### Introduction to Data Ingestion"
   ]
  },
  {
   "cell_type": "code",
   "execution_count": 1,
   "id": "4a82f674",
   "metadata": {},
   "outputs": [],
   "source": [
    "import os\n",
    "from typing import List,Dict,Any\n",
    "import pandas as pd"
   ]
  },
  {
   "cell_type": "code",
   "execution_count": 3,
   "id": "7c49cd65",
   "metadata": {},
   "outputs": [
    {
     "name": "stdout",
     "output_type": "stream",
     "text": [
      "Set up complete\n"
     ]
    }
   ],
   "source": [
    "from langchain_core.documents import Document\n",
    "from langchain.text_splitter import(\n",
    "    RecursiveCharacterTextSplitter,\n",
    "    CharacterTextSplitter,\n",
    "    TokenTextSplitter\n",
    ")\n",
    "print(\"Set up complete\")"
   ]
  },
  {
   "cell_type": "markdown",
   "id": "9f432eb2",
   "metadata": {},
   "source": [
    "### Understanding Document Structure In Langchain"
   ]
  },
  {
   "cell_type": "code",
   "execution_count": 5,
   "id": "ac1533c0",
   "metadata": {},
   "outputs": [
    {
     "name": "stdout",
     "output_type": "stream",
     "text": [
      "Document Structure\n",
      "Page Content: This is the main text content that will be embedded and searched.\n",
      "Metadata: {'source': 'example.txt', 'page': 1, 'author': 'Laavanjan', 'date_created': '2024-01-01', 'cutom_field': 'any_value'}\n",
      "\n",
      "📝 Metadata is crucial for:\n",
      "- Filtering search results\n",
      "- Tracking document sources\n",
      "- Providing context in responses\n",
      "- Debugging and auditing\n"
     ]
    }
   ],
   "source": [
    "### Create a Simple document\n",
    "doc=Document(\n",
    "    page_content=\"This is the main text content that will be embedded and searched.\",\n",
    "    metadata={\n",
    "        \"source\":\"example.txt\",\n",
    "        \"page\":1,\n",
    "        \"author\":\"Laavanjan\",\n",
    "        \"date_created\":\"2024-01-01\",\n",
    "        \"cutom_field\":\"any_value\"\n",
    "\n",
    "    }\n",
    ")\n",
    "\n",
    "print(\"Document Structure\")\n",
    "print(f'Page Content: {doc.page_content}')\n",
    "print(f'Metadata: {doc.metadata}')\n",
    "\n",
    "# Why metadata matters:\n",
    "print(\"\\n📝 Metadata is crucial for:\")\n",
    "print(\"- Filtering search results\")\n",
    "print(\"- Tracking document sources\")\n",
    "print(\"- Providing context in responses\")\n",
    "print(\"- Debugging and auditing\")"
   ]
  },
  {
   "cell_type": "code",
   "execution_count": 6,
   "id": "cc6f3bd9",
   "metadata": {},
   "outputs": [
    {
     "name": "stdout",
     "output_type": "stream",
     "text": [
      "page_content='This is the main text content that will be embedded and searched.' metadata={'source': 'example.txt', 'page': 1, 'author': 'Laavanjan', 'date_created': '2024-01-01', 'cutom_field': 'any_value'}\n",
      "<class 'langchain_core.documents.base.Document'>\n",
      "{'source': 'example.txt', 'page': 1, 'author': 'Laavanjan', 'date_created': '2024-01-01', 'cutom_field': 'any_value'}\n",
      "This is the main text content that will be embedded and searched.\n"
     ]
    }
   ],
   "source": [
    "print(doc)\n",
    "print(type(doc))\n",
    "print(doc.metadata)\n",
    "print(doc.page_content)"
   ]
  },
  {
   "cell_type": "markdown",
   "id": "047fa743",
   "metadata": {},
   "source": [
    "### Text Files (.txt) - The Simplest Case {#2-text-files}"
   ]
  },
  {
   "cell_type": "code",
   "execution_count": null,
   "id": "8181e405",
   "metadata": {},
   "outputs": [],
   "source": []
  }
 ],
 "metadata": {
  "kernelspec": {
   "display_name": "RAGUdemy",
   "language": "python",
   "name": "python3"
  },
  "language_info": {
   "codemirror_mode": {
    "name": "ipython",
    "version": 3
   },
   "file_extension": ".py",
   "mimetype": "text/x-python",
   "name": "python",
   "nbconvert_exporter": "python",
   "pygments_lexer": "ipython3",
   "version": "3.11.5"
  }
 },
 "nbformat": 4,
 "nbformat_minor": 5
}
